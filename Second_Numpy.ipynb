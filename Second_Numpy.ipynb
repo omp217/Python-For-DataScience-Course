{
 "cells": [
  {
   "cell_type": "code",
   "execution_count": 1,
   "metadata": {},
   "outputs": [],
   "source": [
    "import numpy as np;"
   ]
  },
  {
   "cell_type": "code",
   "execution_count": 2,
   "metadata": {},
   "outputs": [],
   "source": [
    "a = np.array([1,2,3,5,7],dtype='i')\n",
    "# All the element should have same data types"
   ]
  },
  {
   "cell_type": "code",
   "execution_count": 3,
   "metadata": {},
   "outputs": [],
   "source": [
    "b = np.array((2,3,5),dtype='f')"
   ]
  },
  {
   "cell_type": "code",
   "execution_count": 4,
   "metadata": {},
   "outputs": [
    {
     "name": "stdout",
     "output_type": "stream",
     "text": [
      "[1 2 3 5 7]\n"
     ]
    }
   ],
   "source": [
    "print(a)"
   ]
  },
  {
   "cell_type": "code",
   "execution_count": 5,
   "metadata": {},
   "outputs": [
    {
     "name": "stdout",
     "output_type": "stream",
     "text": [
      "<class 'numpy.ndarray'>\n"
     ]
    }
   ],
   "source": [
    "print(type(a))"
   ]
  },
  {
   "cell_type": "code",
   "execution_count": 6,
   "metadata": {},
   "outputs": [
    {
     "name": "stdout",
     "output_type": "stream",
     "text": [
      "<class 'numpy.ndarray'>\n"
     ]
    }
   ],
   "source": [
    "print(type(b))"
   ]
  },
  {
   "cell_type": "code",
   "execution_count": 7,
   "metadata": {},
   "outputs": [
    {
     "name": "stdout",
     "output_type": "stream",
     "text": [
      "int32\n"
     ]
    }
   ],
   "source": [
    "print(a.dtype)"
   ]
  },
  {
   "cell_type": "code",
   "execution_count": 8,
   "metadata": {},
   "outputs": [
    {
     "name": "stdout",
     "output_type": "stream",
     "text": [
      "float32\n"
     ]
    }
   ],
   "source": [
    "print(b.dtype)"
   ]
  },
  {
   "cell_type": "code",
   "execution_count": 9,
   "metadata": {},
   "outputs": [],
   "source": [
    "a = np.array([[1,2,3],[4,5,6]])"
   ]
  },
  {
   "cell_type": "code",
   "execution_count": 10,
   "metadata": {},
   "outputs": [
    {
     "name": "stdout",
     "output_type": "stream",
     "text": [
      "2\n"
     ]
    }
   ],
   "source": [
    "print(a.ndim)"
   ]
  },
  {
   "cell_type": "code",
   "execution_count": 11,
   "metadata": {},
   "outputs": [
    {
     "name": "stdout",
     "output_type": "stream",
     "text": [
      "2\n",
      "2\n"
     ]
    }
   ],
   "source": [
    "print(a[0,1]) # This is like a[0][1]\n",
    "print(a[0][1])"
   ]
  },
  {
   "cell_type": "code",
   "execution_count": 12,
   "metadata": {},
   "outputs": [
    {
     "name": "stdout",
     "output_type": "stream",
     "text": [
      "<class 'numpy.ndarray'>\n"
     ]
    }
   ],
   "source": [
    "b = np.array([[1,2,3],[2,4,5,9]],dtype='object')\n",
    "# List length could be different\n",
    "print(type(b))"
   ]
  },
  {
   "cell_type": "code",
   "execution_count": 13,
   "metadata": {},
   "outputs": [
    {
     "name": "stdout",
     "output_type": "stream",
     "text": [
      "1\n"
     ]
    }
   ],
   "source": [
    "print(b.ndim) # Here this is giving dimension 1 becuase no. of elements in each lists are not same"
   ]
  },
  {
   "cell_type": "code",
   "execution_count": 14,
   "metadata": {},
   "outputs": [
    {
     "name": "stdout",
     "output_type": "stream",
     "text": [
      "4\n"
     ]
    }
   ],
   "source": [
    "# print(b[1,1]) --> This will give an error in the case of varying length list\n",
    "print(b[1][1])"
   ]
  },
  {
   "cell_type": "code",
   "execution_count": 15,
   "metadata": {},
   "outputs": [
    {
     "name": "stdout",
     "output_type": "stream",
     "text": [
      "2\n",
      "4\n",
      "<class 'numpy.ndarray'>\n"
     ]
    }
   ],
   "source": [
    "b = np.array([[1,2,3,-1],[2,4,5,9]],dtype='object')\n",
    "print(b.ndim)\n",
    "print(b[1,1])\n",
    "print(type(b))"
   ]
  },
  {
   "cell_type": "code",
   "execution_count": 16,
   "metadata": {},
   "outputs": [
    {
     "name": "stdout",
     "output_type": "stream",
     "text": [
      "0\n",
      "3\n"
     ]
    }
   ],
   "source": [
    "b = np.array(3)\n",
    "print(b.ndim)\n",
    "print(b)"
   ]
  },
  {
   "cell_type": "code",
   "execution_count": 17,
   "metadata": {},
   "outputs": [
    {
     "name": "stdout",
     "output_type": "stream",
     "text": [
      "[ 0  1  2  3  4  5  6  7  8  9 10 11 12 13 14 15 16 17 18 19 20 21 22 23\n",
      " 24 25 26 27 28 29 30 31 32 33 34 35 36 37 38 39 40 41 42 43 44 45 46 47\n",
      " 48 49 50 51 52 53 54 55 56 57 58 59 60 61 62 63 64 65 66 67 68 69 70 71\n",
      " 72 73 74 75 76 77 78 79 80 81 82 83 84 85 86 87 88 89 90 91 92 93 94 95\n",
      " 96 97 98 99]\n"
     ]
    }
   ],
   "source": [
    "a = np.arange(100)\n",
    "print(a)"
   ]
  },
  {
   "cell_type": "code",
   "execution_count": 18,
   "metadata": {},
   "outputs": [
    {
     "name": "stdout",
     "output_type": "stream",
     "text": [
      "[20 21 22 23 24 25 26 27 28 29 30 31 32 33 34 35 36 37 38 39 40 41 42 43\n",
      " 44 45 46 47 48 49 50 51 52 53 54 55 56 57 58 59 60 61 62 63 64 65 66 67\n",
      " 68 69 70 71 72 73 74 75 76 77 78 79 80 81 82 83 84 85 86 87 88 89 90 91\n",
      " 92 93 94 95 96 97 98 99]\n"
     ]
    }
   ],
   "source": [
    "a = np.arange(20,100)\n",
    "print(a)"
   ]
  },
  {
   "cell_type": "code",
   "execution_count": 19,
   "metadata": {},
   "outputs": [
    {
     "name": "stdout",
     "output_type": "stream",
     "text": [
      "[20 23 26 29 32 35 38 41 44 47 50 53 56 59 62 65 68 71 74 77 80 83 86 89\n",
      " 92 95 98]\n"
     ]
    }
   ],
   "source": [
    "a = np.arange(20,100,3)\n",
    "print(a)"
   ]
  },
  {
   "cell_type": "code",
   "execution_count": 20,
   "metadata": {},
   "outputs": [
    {
     "name": "stdout",
     "output_type": "stream",
     "text": [
      "range(0, 10)\n"
     ]
    }
   ],
   "source": [
    "print(range(10))"
   ]
  },
  {
   "cell_type": "code",
   "execution_count": 21,
   "metadata": {},
   "outputs": [
    {
     "name": "stdout",
     "output_type": "stream",
     "text": [
      "[0, 1, 2, 3, 4, 5, 6, 7, 8, 9]\n"
     ]
    }
   ],
   "source": [
    "print(list(range(10)))"
   ]
  },
  {
   "cell_type": "code",
   "execution_count": 22,
   "metadata": {},
   "outputs": [
    {
     "name": "stdout",
     "output_type": "stream",
     "text": [
      "[7 0 1 8 2 3 9 6 5 4]\n"
     ]
    }
   ],
   "source": [
    "a = np.random.permutation(np.arange(10))\n",
    "print(a)"
   ]
  },
  {
   "cell_type": "code",
   "execution_count": 23,
   "metadata": {},
   "outputs": [
    {
     "name": "stdout",
     "output_type": "stream",
     "text": [
      "0.6426831698325718\n"
     ]
    }
   ],
   "source": [
    "print(np.random.rand())"
   ]
  },
  {
   "cell_type": "code",
   "execution_count": 24,
   "metadata": {},
   "outputs": [
    {
     "name": "stdout",
     "output_type": "stream",
     "text": [
      "22\n",
      "<class 'int'>\n"
     ]
    }
   ],
   "source": [
    "print(np.random.randint(20,30)) # 30 will not include\n",
    "print(type(np.random.randint(20,30)))"
   ]
  },
  {
   "cell_type": "code",
   "execution_count": 25,
   "metadata": {},
   "outputs": [
    {
     "name": "stdout",
     "output_type": "stream",
     "text": [
      "[0.86546148 0.08539027 0.82834359 0.3671095  0.95369966 0.99054865\n",
      " 0.9240338  0.5591417  0.14089513 0.02718632]\n"
     ]
    }
   ],
   "source": [
    "print(np.random.rand(10))\n",
    "a = np.random.rand(1000)"
   ]
  },
  {
   "cell_type": "code",
   "execution_count": 26,
   "metadata": {},
   "outputs": [],
   "source": [
    "import matplotlib.pyplot as plt"
   ]
  },
  {
   "cell_type": "code",
   "execution_count": 27,
   "metadata": {},
   "outputs": [
    {
     "data": {
      "text/plain": [
       "(array([105., 106., 110.,  99., 101., 115.,  79., 101., 100.,  84.]),\n",
       " array([9.62036066e-05, 1.00007085e-01, 1.99917966e-01, 2.99828847e-01,\n",
       "        3.99739728e-01, 4.99650609e-01, 5.99561491e-01, 6.99472372e-01,\n",
       "        7.99383253e-01, 8.99294134e-01, 9.99205015e-01]),\n",
       " <BarContainer object of 10 artists>)"
      ]
     },
     "execution_count": 27,
     "metadata": {},
     "output_type": "execute_result"
    },
    {
     "data": {
      "image/png": "[encoded data removed]",
      "text/plain": [
       "<Figure size 432x288 with 1 Axes>"
      ]
     },
     "metadata": {
      "needs_background": "light"
     },
     "output_type": "display_data"
    }
   ],
   "source": [
    "plt.hist(a)"
   ]
  },
  {
   "cell_type": "code",
   "execution_count": 28,
   "metadata": {},
   "outputs": [
    {
     "data": {
      "text/plain": [
       "(array([ 7.,  9., 13., 11.,  9., 16., 11.,  8.,  7., 14.,  7., 10., 17.,\n",
       "         9.,  9., 13.,  8.,  8., 15., 10., 13.,  7., 12., 11., 14.,  7.,\n",
       "        13., 15.,  4., 14.,  8., 12., 11.,  7., 10., 10.,  9., 13.,  5.,\n",
       "        14., 12., 15.,  9.,  7., 10., 12.,  5., 13., 10.,  8., 13., 17.,\n",
       "        12., 13., 11., 11.,  6.,  8., 15.,  9.,  8.,  8., 10.,  5.,  4.,\n",
       "         7.,  8.,  9., 11.,  9., 10., 10., 13., 11.,  5., 15.,  9.,  6.,\n",
       "        11., 11., 13.,  8.,  9.,  8.,  9.,  9., 14.,  8., 14.,  8., 11.,\n",
       "         7.,  5., 11.,  6., 10.,  9., 12.,  5.,  8.]),\n",
       " array([9.62036066e-05, 1.00872917e-02, 2.00783798e-02, 3.00694680e-02,\n",
       "        4.00605561e-02, 5.00516442e-02, 6.00427323e-02, 7.00338204e-02,\n",
       "        8.00249085e-02, 9.00159967e-02, 1.00007085e-01, 1.09998173e-01,\n",
       "        1.19989261e-01, 1.29980349e-01, 1.39971437e-01, 1.49962525e-01,\n",
       "        1.59953613e-01, 1.69944702e-01, 1.79935790e-01, 1.89926878e-01,\n",
       "        1.99917966e-01, 2.09909054e-01, 2.19900142e-01, 2.29891230e-01,\n",
       "        2.39882318e-01, 2.49873407e-01, 2.59864495e-01, 2.69855583e-01,\n",
       "        2.79846671e-01, 2.89837759e-01, 2.99828847e-01, 3.09819935e-01,\n",
       "        3.19811023e-01, 3.29802111e-01, 3.39793200e-01, 3.49784288e-01,\n",
       "        3.59775376e-01, 3.69766464e-01, 3.79757552e-01, 3.89748640e-01,\n",
       "        3.99739728e-01, 4.09730816e-01, 4.19721905e-01, 4.29712993e-01,\n",
       "        4.39704081e-01, 4.49695169e-01, 4.59686257e-01, 4.69677345e-01,\n",
       "        4.79668433e-01, 4.89659521e-01, 4.99650609e-01, 5.09641698e-01,\n",
       "        5.19632786e-01, 5.29623874e-01, 5.39614962e-01, 5.49606050e-01,\n",
       "        5.59597138e-01, 5.69588226e-01, 5.79579314e-01, 5.89570402e-01,\n",
       "        5.99561491e-01, 6.09552579e-01, 6.19543667e-01, 6.29534755e-01,\n",
       "        6.39525843e-01, 6.49516931e-01, 6.59508019e-01, 6.69499107e-01,\n",
       "        6.79490196e-01, 6.89481284e-01, 6.99472372e-01, 7.09463460e-01,\n",
       "        7.19454548e-01, 7.29445636e-01, 7.39436724e-01, 7.49427812e-01,\n",
       "        7.59418900e-01, 7.69409989e-01, 7.79401077e-01, 7.89392165e-01,\n",
       "        7.99383253e-01, 8.09374341e-01, 8.19365429e-01, 8.29356517e-01,\n",
       "        8.39347605e-01, 8.49338694e-01, 8.59329782e-01, 8.69320870e-01,\n",
       "        8.79311958e-01, 8.89303046e-01, 8.99294134e-01, 9.09285222e-01,\n",
       "        9.19276310e-01, 9.29267398e-01, 9.39258487e-01, 9.49249575e-01,\n",
       "        9.59240663e-01, 9.69231751e-01, 9.79222839e-01, 9.89213927e-01,\n",
       "        9.99205015e-01]),\n",
       " <BarContainer object of 100 artists>)"
      ]
     },
     "execution_count": 28,
     "metadata": {},
     "output_type": "execute_result"
    },
    {
     "data": {
      "image/png": "[encoded data removed]",
      "text/plain": [
       "<Figure size 432x288 with 1 Axes>"
      ]
     },
     "metadata": {
      "needs_background": "light"
     },
     "output_type": "display_data"
    }
   ],
   "source": [
    "plt.hist(a,bins=100)\n",
    "# This will devide the range into 100 equal bins"
   ]
  },
  {
   "cell_type": "code",
   "execution_count": 29,
   "metadata": {},
   "outputs": [
    {
     "name": "stdout",
     "output_type": "stream",
     "text": [
      "[-2.84201279e-01  7.19844134e-01  2.59042580e-01  8.36111514e-01\n",
      " -5.80189271e-01  4.38782551e-01  4.02087882e-01 -1.38301385e+00\n",
      " -9.30866497e-01  4.43794208e-01 -2.25141460e-02 -1.10889435e-01\n",
      "  1.31302604e+00 -1.21674753e+00 -2.90008292e+00  5.85041063e-01\n",
      "  1.91886513e+00 -1.73605953e+00 -2.35501626e-01  8.59493074e-01\n",
      "  6.61640988e-01  6.37105278e-01 -1.33804436e+00  2.06346435e+00\n",
      " -6.97112500e-01 -7.57156509e-01 -1.37518601e+00  8.38830355e-02\n",
      " -1.83982465e+00 -2.82256269e+00  4.69511758e-01 -2.88887892e+00\n",
      "  1.37945363e+00  7.50187101e-01  2.75893767e+00  5.97554519e-01\n",
      "  1.49482499e+00 -1.02290362e-02 -1.36547781e+00 -1.15670964e+00\n",
      "  5.02658673e-01 -1.17189355e+00  3.03319308e-01  1.02746569e+00\n",
      " -7.97155362e-01 -1.46874756e-03  8.52845641e-01  4.70991209e-01\n",
      "  8.38514442e-01  1.07713165e+00 -6.17467208e-02 -3.15505859e-01\n",
      "  1.80537772e+00  2.58027162e-01  9.71379063e-01 -1.88159270e-01\n",
      "  9.90053706e-01  1.59467901e-01 -4.85575561e-01 -1.48448646e-01\n",
      " -1.42197169e+00 -1.34372322e+00  2.69113512e-01  5.66890153e-01\n",
      " -7.63705740e-01 -4.16329531e-01 -7.75878565e-01 -1.10301229e+00\n",
      " -1.61067052e-02 -2.61749434e-01  7.17795891e-01 -9.24248267e-01\n",
      "  1.32318465e+00  2.46931896e-01 -6.92723630e-01 -5.79866225e-01\n",
      " -8.99257131e-01  2.45412619e+00 -3.42282452e-01 -1.25314039e+00\n",
      " -1.78682726e-01  8.56429876e-01 -8.18095536e-02  9.79500579e-01\n",
      "  4.93981006e-01  5.33447180e-01 -2.42959638e-01  2.08431929e+00\n",
      "  1.21673119e+00 -1.00001616e+00  7.29676059e-01 -1.75065575e+00\n",
      "  7.33480332e-02 -1.31911142e+00  2.86528875e-01 -2.16351466e-01\n",
      "  1.91596957e+00  5.63168035e-01 -4.78983342e-01  1.81597318e+00\n",
      "  7.18743292e-03  2.44655849e-01  4.00093133e-01  2.82282893e-01\n",
      "  8.69366825e-01 -1.07994857e+00  2.18965497e+00 -8.17109478e-01\n",
      "  1.17878833e-01 -6.56561209e-01  1.76677863e+00  2.78560807e-01\n",
      "  4.21190543e-01 -8.92806090e-01  5.25332709e-02  3.66541520e-01\n",
      " -1.24738198e+00 -6.56433474e-01 -2.00491164e-01 -1.44480181e+00\n",
      " -4.27104444e-01  1.29496538e+00  9.40507731e-01 -2.50121552e-01\n",
      " -2.25387334e+00  1.51448369e+00  1.09301650e+00 -2.80423504e-01\n",
      "  1.56577366e+00  2.69181311e-01 -7.53441858e-01  2.44247140e-01\n",
      " -1.31172028e-01 -1.36619408e+00  1.03187004e+00  2.73212823e+00\n",
      "  1.97677142e+00 -4.01948641e-02 -1.06446277e+00  4.19386991e-01\n",
      "  5.10525888e-01  1.25120613e+00  1.41885283e-01  9.99460648e-01\n",
      " -1.03173788e+00  1.53909347e+00 -2.68713199e-01  2.04580560e+00\n",
      " -6.99145684e-01 -7.89880024e-01  1.89709678e+00 -1.38857335e-01\n",
      "  4.30397688e-01 -2.12863784e-01 -1.73461141e-02 -1.34243244e+00\n",
      " -1.59189672e-01 -1.53647077e+00  4.05950811e-01 -1.16718432e-01\n",
      " -1.08984199e+00  6.01236157e-01  7.14888734e-01  6.81917112e-02\n",
      "  4.56424335e-01 -1.63449558e-01  2.47797384e+00 -1.92558231e-03\n",
      "  7.88976286e-01  1.51577803e-01 -8.58677868e-01  1.23803470e+00\n",
      " -1.27821410e+00 -1.34092791e+00 -7.05409291e-01 -1.93806013e+00\n",
      "  7.10616195e-02  4.18101949e-01 -1.10688110e-01 -9.33818821e-01\n",
      "  1.79907083e-01 -3.25730061e-01 -4.61204634e-01 -8.25001907e-01\n",
      "  4.70973198e-01  1.27130541e+00  3.50961596e-01  3.50627090e-01\n",
      "  5.33609930e-01 -1.05059309e+00  1.48852062e+00  6.82075309e-01\n",
      " -5.41664709e-01 -1.30258432e+00 -7.54294391e-01  3.29154237e-01\n",
      "  1.30893874e+00  5.08841742e-01  7.80295325e-01  8.56027784e-01\n",
      " -8.39901851e-01 -2.09589018e+00  1.16218444e+00 -1.85425987e+00\n",
      "  1.53954693e+00  3.80900483e-01  1.83424112e+00 -6.10931060e-01\n",
      "  2.06693536e+00  8.76873763e-01  3.94593704e-01 -7.33866527e-01\n",
      "  1.94806973e+00  7.10931526e-01  5.07202725e-01 -1.33471453e+00\n",
      " -2.15320835e+00 -6.76696911e-01 -1.74358486e+00  1.94864655e+00\n",
      "  1.40796306e+00  4.44937482e-02 -1.47681190e-01  2.28356598e-01\n",
      " -6.24137042e-01  3.65904486e-01  7.00258725e-01  4.67374800e-01\n",
      "  2.73316241e-01  1.19159032e+00  1.08542989e+00  4.90980504e-01\n",
      "  1.07580328e+00  1.04690559e+00  3.72044009e-01 -6.67673633e-01\n",
      "  5.28235757e-02 -7.86299241e-01 -1.17722246e+00  2.04466191e-01\n",
      " -2.46055928e+00 -1.18339714e+00 -5.54548027e-01  3.80336380e-01\n",
      "  6.20182757e-01  1.76363658e+00  4.51466101e-01 -7.12268865e-01\n",
      "  6.28489684e-01 -2.88301493e-01  1.24656337e+00  9.36542986e-01\n",
      " -2.59085342e-01  5.70943477e-01  1.22637181e+00 -1.05555262e+00\n",
      " -4.95946569e-01 -7.78317104e-01 -1.38385810e+00 -1.09149471e+00\n",
      " -7.24637543e-01 -1.71509412e-02  1.05476858e+00 -1.02492807e+00\n",
      " -1.43358002e+00 -7.10339099e-01 -8.85113613e-01 -1.12598467e-01\n",
      "  1.15891374e+00  5.47589977e-01  1.48497416e+00  2.99774468e-01\n",
      " -2.54815932e-01 -1.94027222e+00 -5.93966840e-01 -5.48050706e-01\n",
      " -2.47777129e-01  1.62879878e+00  1.70018628e+00  7.67201424e-01\n",
      " -3.44508452e-01  4.39407845e-01 -5.48198321e-01  2.81101923e-01\n",
      "  2.17774003e-01 -3.82147731e-01  7.14299121e-01  6.63361485e-01\n",
      "  8.91024264e-01 -1.35718882e+00 -7.74151934e-01  6.80465560e-01\n",
      "  3.65124018e-01  3.67642067e-01 -3.02286562e+00  4.20828950e-01\n",
      "  2.52104493e+00 -1.06647287e+00  1.64731103e+00  1.05293639e+00\n",
      " -1.22026068e+00 -8.72142171e-01 -8.34635073e-01 -1.68515675e+00\n",
      "  4.82951635e-01 -2.69223808e-01  6.03678896e-02 -1.24358164e+00\n",
      " -4.88154142e-01  1.14179576e+00  2.64762929e-01 -4.43299411e-01\n",
      " -1.65634224e+00  3.00326228e-01  1.88177688e-01 -1.42554118e-01\n",
      "  2.38403356e+00 -1.18125417e+00 -5.13255874e-01 -9.73538680e-01\n",
      "  9.19426038e-02 -1.99912639e-01  3.63501081e-02  4.54148337e-01\n",
      " -6.14592305e-01  5.19804525e-01  8.34486436e-01  2.57540250e-01\n",
      " -2.51760165e-01 -4.40179909e-01  3.69389930e-02 -2.42684821e-01\n",
      "  1.51080714e+00  3.37892130e-01  4.98344651e-01  5.44118942e-01\n",
      " -1.13700935e+00 -1.32352431e+00 -1.92408481e+00  7.10901469e-01\n",
      " -6.24455452e-01  1.01269552e+00 -2.15531811e-01 -1.10259569e-01\n",
      "  2.09413283e+00 -8.48632737e-01  7.53539012e-01 -2.71501967e-01\n",
      " -8.05459327e-01  1.00563415e-02  4.20004818e-01  1.39001396e+00\n",
      " -2.37755583e-01 -7.67616947e-01  1.15553278e+00 -1.18690917e+00\n",
      "  1.83140560e+00  6.94393777e-01 -4.11347083e-01 -2.71947302e-01\n",
      " -6.83961037e-01 -1.67843203e-01 -1.10222850e+00  9.67638832e-01\n",
      " -1.39447279e+00 -1.31647484e+00  1.82943384e+00 -1.04713373e+00\n",
      " -1.33393392e+00 -2.63637942e+00  1.98175597e-01 -1.46091413e-01\n",
      "  8.70531475e-01 -2.79810350e-01 -1.52315753e+00  1.96917805e+00\n",
      "  8.64057743e-01  1.50885600e+00 -1.40256027e-01  8.02074072e-01\n",
      "  1.74188542e+00 -3.80077172e-01  3.80547274e-01 -2.13909428e-01\n",
      "  1.00189196e+00  1.93614753e+00 -2.43574076e-03 -4.57671500e-01\n",
      " -1.72858653e+00  2.72394347e-02  1.19176012e+00  5.77126312e-01\n",
      " -4.52316211e-02 -2.10502690e-01 -1.78526107e+00  3.04024700e-01\n",
      " -7.88013192e-01 -1.44527608e-01 -7.11708557e-01 -2.43514694e+00\n",
      "  8.07995042e-01 -5.16211532e-01 -1.27448325e+00  9.03823307e-01\n",
      " -3.10600254e-01 -1.13601773e-01  4.22967167e-01  2.87324293e-01\n",
      " -3.21008614e-01  9.84506737e-03  9.48015792e-01 -1.97889841e-01\n",
      "  5.23966444e-01 -2.28813531e+00 -2.46974753e-01  3.28927977e-01\n",
      "  1.40051955e-01  1.34751149e+00 -8.64465524e-02  9.36052873e-01\n",
      " -4.78272507e-01 -8.67541020e-01 -6.88152674e-01  7.77190805e-01\n",
      "  4.34278232e-03 -9.64133592e-01  1.47159286e+00  2.38563374e-01\n",
      "  3.63112772e-01  4.24788993e-02  1.16356050e+00 -1.86200087e-01\n",
      "  1.90602067e-01  4.17393347e-01 -8.31587877e-01  8.31331986e-01\n",
      " -6.57259048e-01  5.69022194e-01  6.24856565e-03 -1.48202249e+00\n",
      " -1.29772608e+00  1.66465872e+00 -1.77262066e+00 -1.32456174e+00\n",
      " -1.83721414e+00 -1.37565311e+00 -6.97725282e-01 -1.08072709e+00\n",
      "  1.22776092e+00 -4.50064838e-01  2.38844230e-01 -8.44139034e-01\n",
      " -6.88890735e-03 -6.16054107e-01 -1.04117183e+00 -8.47274608e-01\n",
      " -2.31051851e-01  4.32549617e-01 -1.05550941e+00  1.35826120e+00\n",
      " -1.59682824e-01  1.30458354e+00 -6.48565435e-01  1.95916271e-01\n",
      "  1.17858446e-01  7.28012747e-02  3.99896616e-01 -2.90951960e+00\n",
      " -5.33375459e-01 -8.01278181e-01 -4.75773053e-01  9.90642629e-01\n",
      "  3.26749487e-01  2.93823040e-02  1.99763856e-01  1.20857937e+00\n",
      "  1.16377816e+00 -1.19832308e+00 -1.28929740e+00  1.55342902e-01\n",
      " -1.55490009e+00  1.29527330e+00 -5.08669534e-01  2.46225049e+00\n",
      "  7.65779553e-02  1.91721089e-01 -1.19424320e+00  5.60105358e-01\n",
      "  4.88619986e-01 -6.60850288e-01  3.29928889e-01 -4.21884946e-01\n",
      " -1.04599389e+00  5.37228918e-01 -6.08487964e-01  8.72269530e-02\n",
      " -9.27935089e-01 -3.94473730e-01 -3.78324169e-01 -6.44288023e-01\n",
      "  5.96669574e-01  1.26541846e+00  4.37942202e-01 -5.32216419e-01\n",
      " -2.91317195e-01 -8.82351590e-01 -2.56169841e-01  3.87890364e-01\n",
      " -1.29101764e+00 -2.45457123e-01 -9.49296612e-01 -2.69482092e-01\n",
      " -7.17337778e-02  9.36387735e-02  9.84233446e-03  3.89161452e-01\n",
      " -5.18168246e-01 -2.14693415e-01  1.10165652e+00 -9.69809554e-02\n",
      "  6.34583792e-02 -9.51387700e-01  1.49774268e+00 -2.06030226e-01\n",
      " -2.58857039e+00  3.04880080e-01  1.07505701e+00 -1.34850139e+00\n",
      "  1.60413834e+00 -3.53171273e-01  5.24588418e-01  1.44024190e+00\n",
      "  6.64038422e-01 -2.49584337e-01  1.49595457e-01  4.03061349e-01\n",
      " -5.30353480e-01 -1.36116653e-01  5.32042072e-02  1.89813567e-01\n",
      " -1.70743448e+00  1.36822165e+00  7.58567166e-01 -2.83283760e-01\n",
      " -2.99594936e-01  2.50892635e-01 -4.33559758e-01 -1.63527726e+00\n",
      "  4.58834813e-01 -6.26187486e-02 -1.15314994e+00 -1.36058981e+00\n",
      "  4.72249029e-01  2.08947142e+00 -2.38746510e-01 -1.32842611e+00\n",
      " -4.58577718e-01  3.43291643e-01 -5.00370004e-01 -1.09449903e+00\n",
      " -1.33540322e+00  5.40933721e-01 -1.51994899e+00  9.30952887e-03\n",
      "  5.95852992e-01  8.00647751e-01  1.80317782e+00 -3.49132203e-01\n",
      "  3.74953038e-01 -2.90847171e-01 -6.73809516e-01  1.01426638e+00\n",
      " -1.91453438e-01 -3.46005451e-02 -3.95069079e-01  5.37176066e-01\n",
      "  1.44865597e+00  1.52864131e-02 -2.16460838e-01  2.11550662e+00\n",
      "  3.84786070e-01  1.68652337e+00  6.46527469e-01 -1.06419154e+00\n",
      "  1.76771780e+00  4.31002164e-01  2.86903453e+00 -7.60177773e-01\n",
      "  7.05722673e-01  1.75784572e+00 -7.00442865e-01 -1.63963773e-01\n",
      " -4.06613553e-02 -1.83342864e-01 -7.67505713e-01  7.43841089e-01\n",
      " -1.22220089e-01 -6.23243757e-01  1.81026660e+00 -5.03358089e-01\n",
      " -4.47683031e-01  1.09509356e+00 -7.13041312e-01 -1.87240906e+00\n",
      "  3.61560091e-01 -2.38999592e+00  9.52520457e-02  3.59249503e-01\n",
      " -1.79372148e+00  1.43906501e+00 -5.43441306e-01  5.38703973e-01\n",
      " -1.41929374e-01  7.51116925e-01 -1.39148774e-01  6.74850853e-01\n",
      " -1.79062420e+00 -2.02504107e-01 -8.52082030e-01 -4.22608816e-01\n",
      "  1.33334448e-01  2.88810132e+00 -2.08687941e+00  7.64209273e-02\n",
      "  2.96199894e-01 -4.17008400e-01 -2.13375882e+00  1.23487914e-01\n",
      "  1.01575042e+00 -8.88381667e-02 -1.11756131e+00  4.34929469e-01\n",
      " -1.40883469e+00 -1.72518737e+00 -1.97680065e+00  6.48163432e-01\n",
      " -7.80965324e-01 -5.13166586e-02 -9.24595712e-01  3.67004033e-01\n",
      "  1.40901618e+00 -5.87192661e-01 -2.03789602e+00 -2.60766248e-01\n",
      "  1.65326321e-01 -5.07432730e-01  2.86135984e-01  1.26411558e+00\n",
      " -4.13324207e-01 -1.66761285e+00  4.49253549e-01  4.10502101e-01\n",
      "  2.03299698e-01  1.98524057e+00 -9.79393519e-01  1.65742485e+00\n",
      "  3.47912151e-01 -5.96211049e-01 -8.67045693e-01  1.30487259e+00\n",
      " -1.38221792e+00 -1.16266719e+00  9.43421554e-01 -6.53290341e-01\n",
      " -1.97853575e-01 -4.72334044e-02  9.46562314e-01 -1.31640489e+00\n",
      " -9.75199212e-01  5.85959210e-01 -1.27732009e+00  1.11234437e+00\n",
      " -6.60048184e-01  9.40112038e-01  6.66078597e-01  3.19370699e-01\n",
      " -1.54527459e+00  8.43054854e-01  2.38171694e-03  2.12584801e+00\n",
      "  5.43324184e-01  2.39715181e-01 -8.12902074e-01  9.02062191e-01\n",
      " -7.60666133e-01 -2.07810169e-01  4.81136007e-01  1.78489571e-01\n",
      "  1.68684677e+00 -6.05269562e-01  2.42449434e-01  3.39480011e-01\n",
      " -1.12118634e+00  7.12956629e-01  1.53949486e-01  1.04453434e+00\n",
      " -9.88853783e-01 -1.37896050e-01  3.27822633e-01  2.06436973e-01\n",
      "  1.03022453e+00  3.66280525e-02  8.15229928e-01  1.26844688e+00\n",
      " -1.41460890e+00 -1.10878557e+00 -5.73960434e-01  1.28704595e+00\n",
      "  3.77358754e-02  1.01596515e+00  1.34405657e-01 -4.32822489e-02\n",
      "  8.81972866e-02  4.54934217e-01  1.91149661e+00  1.53242128e+00\n",
      " -8.89976306e-02  3.83452284e-01  1.56712808e-01 -3.38489802e-01\n",
      "  6.51770040e-02 -4.57016751e-01  4.00317497e-01 -2.31515372e-01\n",
      "  8.74756777e-01 -9.89570827e-01  1.55099121e+00  2.16709969e+00\n",
      " -1.02775838e+00  2.21250493e-01  4.17001189e-01 -3.33624873e-01\n",
      " -5.51929728e-01  1.11791038e-01  1.95118660e+00  1.81753939e+00\n",
      "  1.10889464e+00  6.36785814e-01 -2.73947859e-01 -3.71390948e-01\n",
      " -6.88901709e-01  4.94521479e-02  1.47663823e+00  7.22683672e-01\n",
      "  1.20901842e+00 -8.48208829e-03  8.07533930e-02  3.43799285e-02\n",
      "  3.16513941e-01 -2.28293153e-01 -1.55275598e+00 -9.21464716e-01\n",
      "  7.50515718e-01  4.43542369e-01  1.80192533e+00  8.03332242e-01\n",
      "  3.33510088e-02  2.23678604e-01 -1.04464906e+00  1.66099048e+00\n",
      " -6.36311066e-01 -1.79573750e+00  9.31171484e-01 -1.55896000e+00\n",
      " -1.05111507e+00 -1.21568679e-01 -3.71800935e-01 -1.94268009e+00\n",
      " -1.14989421e-01 -4.06646335e-01 -6.89849998e-01  1.50217415e-01\n",
      " -7.99274912e-01  5.23570907e-01  1.06437291e+00  1.44542744e+00\n",
      " -1.20440638e+00  6.28093936e-01 -5.46842391e-01 -8.47909858e-01\n",
      " -9.27752205e-01 -2.52025814e+00  1.52134628e+00  6.16853082e-02\n",
      "  7.45590374e-01 -2.95011158e-02  2.44644009e-02  1.98568848e+00\n",
      " -1.66143656e-01 -6.82918296e-01  6.01344607e-01 -1.44186170e+00\n",
      "  2.46005878e+00  2.93888519e-01  1.05336283e+00  1.44468207e+00\n",
      "  9.19257162e-01  3.58324561e-02  8.87599337e-01 -5.57615137e-01\n",
      " -6.17017281e-01 -7.87280808e-01  2.08475500e+00  4.26245430e-01\n",
      "  1.52531877e+00 -1.61012268e-01  1.37095019e-02  8.55086628e-01\n",
      " -2.20227005e-01 -1.30233681e+00 -1.41539164e+00 -5.72179382e-01\n",
      "  1.81275765e-01  9.44119482e-01  4.78581506e-01  7.00421854e-01\n",
      "  5.70535791e-01 -1.85470579e-01 -7.35319490e-01 -1.53237803e+00\n",
      "  3.26296112e-01  1.63197570e-01 -2.19085747e+00 -1.20365579e+00\n",
      " -1.39185428e+00 -3.53954667e-01  4.84187009e-01  7.94259822e-01\n",
      " -1.28576560e+00 -3.88043886e-01  7.89345617e-02 -6.45629528e-01\n",
      "  2.28848815e+00  2.86651687e-01 -1.70390515e+00  1.10243164e+00\n",
      "  3.61372452e-01  1.36205528e-01 -1.28067913e-01  1.51027104e+00\n",
      " -1.71793652e+00  5.56448673e-01  8.22413683e-01  9.40215702e-01\n",
      "  1.44906455e+00  1.08686139e+00 -1.79682859e+00  3.37606493e-01\n",
      " -7.79764906e-01 -2.22967535e-01 -6.89231113e-01 -8.58061283e-01\n",
      " -1.78343321e-01 -5.72644940e-01  7.42214100e-01 -8.69416073e-01\n",
      "  4.99336902e-01 -1.09717160e+00 -3.93059885e-01 -1.26263832e+00\n",
      "  1.48071825e+00 -6.18176531e-01  3.91735151e-01  3.07030114e-01\n",
      "  7.78699274e-01  2.07413563e-01 -4.42297141e-01  2.13629533e+00\n",
      " -3.42184963e-01  6.98841898e-01  1.22638148e+00 -1.55668269e+00\n",
      "  1.31836888e-01  1.46991814e+00  1.11688167e-02 -1.56595046e+00\n",
      "  1.52406280e+00  7.70874801e-01 -7.52379499e-01  1.43881910e-01\n",
      " -1.09940758e+00 -3.12748540e+00  9.91288705e-01  5.56346375e-01\n",
      " -6.36454301e-01  1.05850610e+00  1.18374543e+00 -1.79568510e-01\n",
      " -1.10694812e+00  6.16148285e-01 -8.71985901e-01 -7.08185619e-02\n",
      "  4.22313283e-01  3.22205875e-01  1.24226184e+00 -2.33127273e+00\n",
      " -8.45563058e-01 -3.16955269e-01  2.52356973e-01  1.79430127e-02\n",
      " -9.51350809e-01  8.58768355e-01 -1.26501254e+00  1.46300584e-01\n",
      "  8.25830978e-02  1.24890219e-01 -1.94734012e+00  4.10348882e-01\n",
      "  1.65689464e+00  4.73913846e-01  1.24153453e+00 -8.98788730e-01\n",
      " -1.06103922e+00 -1.33771895e+00  2.10641847e+00 -7.78103358e-01\n",
      " -2.49837322e+00 -9.19654576e-01  4.20915322e-01  1.12410328e+00\n",
      " -2.32044817e+00 -1.00738831e+00 -3.03446491e-01 -5.97706578e-01\n",
      "  5.98683744e-02 -2.05932359e-02  1.98716103e+00 -4.02939671e-01\n",
      " -7.19599291e-01  3.95008085e-01  6.25229605e-01  2.59829713e-01\n",
      " -1.46363244e+00  8.84432903e-01  8.11189127e-01 -2.87998432e-01\n",
      " -1.67657936e+00 -5.53801917e-02  2.87807455e-01 -6.00868829e-01\n",
      "  7.92809136e-01 -1.23045131e+00 -1.34951165e+00  7.76305532e-01\n",
      " -9.48321050e-01  1.30394476e+00 -1.72111950e+00  9.67482675e-01\n",
      "  6.29333477e-01 -2.43733631e-01 -1.74259538e+00 -2.58585868e-02\n",
      "  1.28547102e+00  1.26258560e+00  3.01508427e-01 -2.14724654e-01\n",
      " -4.68636491e-01  1.06017311e-01  5.31871451e-02  8.12726548e-02\n",
      " -2.78143979e-01 -9.76164662e-02  7.15374076e-01  6.91686296e-01\n",
      "  1.23125168e-01  6.83926182e-01  1.21334524e+00 -8.18607963e-01\n",
      " -6.07854193e-01 -1.10313098e-01 -4.17060283e-01 -4.75787181e-01\n",
      " -1.58965409e+00  8.92777819e-01  1.83677165e-02 -1.21627319e-01\n",
      "  3.55949280e-01 -4.56013601e-01 -6.62392109e-01  5.02097450e-01\n",
      " -6.74633217e-01  2.21815834e+00  1.27802312e-01 -2.22264863e+00\n",
      " -9.12952469e-01 -4.52499501e-01 -8.80514897e-01  5.56907179e-01\n",
      " -1.17373149e+00 -9.30748064e-01 -1.85242489e+00 -7.64473727e-01\n",
      " -2.72536723e+00  2.24492794e-01  4.81219908e-01 -2.93827982e-01\n",
      " -4.90817411e-01 -2.66890849e-01  1.61751428e+00 -2.09544105e-01]\n"
     ]
    }
   ],
   "source": [
    "b = np.random.randn(1000)\n",
    "print(b)"
   ]
  },
  {
   "cell_type": "code",
   "execution_count": 30,
   "metadata": {},
   "outputs": [
    {
     "data": {
      "text/plain": [
       "(array([ 1.,  0.,  0.,  1.,  0.,  0.,  0.,  3.,  0.,  0.,  1.,  0.,  0.,\n",
       "         1.,  0.,  0.,  1.,  1.,  0.,  0.,  2.,  0.,  1.,  1.,  1.,  0.,\n",
       "         2.,  1.,  0.,  1.,  1.,  1.,  1.,  1.,  2.,  0.,  1.,  0.,  1.,\n",
       "         4.,  1.,  1.,  4.,  0.,  5.,  2.,  7.,  3.,  3.,  1.,  0.,  2.,\n",
       "         6.,  3.,  1.,  2.,  5.,  5.,  7., 13.,  6.,  7.,  4.,  5.,  7.,\n",
       "         4.,  3.,  9.,  8.,  9.,  2.,  6.,  5.,  9.,  8., 11.,  7.,  8.,\n",
       "        16.,  3., 11., 11., 11., 11., 10.,  8.,  6.,  8., 11.,  9., 10.,\n",
       "         6.,  8.,  6., 14., 18., 16., 13., 10., 16., 10.,  8.,  9., 12.,\n",
       "        16., 16., 16.,  7., 14.,  9., 12.,  8., 13., 13., 14., 10., 16.,\n",
       "        19., 14., 13., 12., 10., 12.,  8.,  6.,  5.,  8., 13.,  8.,  8.,\n",
       "         8.,  6., 10.,  7.,  3.,  9.,  7.,  6.,  6.,  7.,  8.,  2.,  5.,\n",
       "         3.,  7.,  6.,  6.,  8.,  1.,  3.,  3.,  2.,  6.,  6.,  8.,  3.,\n",
       "         1.,  2.,  2.,  4.,  3.,  1.,  4.,  2.,  7.,  0.,  0.,  4.,  4.,\n",
       "         4.,  1.,  1.,  2.,  4.,  3.,  1.,  2.,  1.,  0.,  0.,  1.,  0.,\n",
       "         0.,  1.,  0.,  3.,  1.,  1.,  0.,  0.,  0.,  0.,  0.,  0.,  1.,\n",
       "         1.,  0.,  0.,  0.,  2.]),\n",
       " array([-3.12748540e+00, -3.09740747e+00, -3.06732954e+00, -3.03725160e+00,\n",
       "        -3.00717367e+00, -2.97709574e+00, -2.94701780e+00, -2.91693987e+00,\n",
       "        -2.88686194e+00, -2.85678400e+00, -2.82670607e+00, -2.79662813e+00,\n",
       "        -2.76655020e+00, -2.73647227e+00, -2.70639433e+00, -2.67631640e+00,\n",
       "        -2.64623847e+00, -2.61616053e+00, -2.58608260e+00, -2.55600467e+00,\n",
       "        -2.52592673e+00, -2.49584880e+00, -2.46577086e+00, -2.43569293e+00,\n",
       "        -2.40561500e+00, -2.37553706e+00, -2.34545913e+00, -2.31538120e+00,\n",
       "        -2.28530326e+00, -2.25522533e+00, -2.22514740e+00, -2.19506946e+00,\n",
       "        -2.16499153e+00, -2.13491359e+00, -2.10483566e+00, -2.07475773e+00,\n",
       "        -2.04467979e+00, -2.01460186e+00, -1.98452393e+00, -1.95444599e+00,\n",
       "        -1.92436806e+00, -1.89429013e+00, -1.86421219e+00, -1.83413426e+00,\n",
       "        -1.80405632e+00, -1.77397839e+00, -1.74390046e+00, -1.71382252e+00,\n",
       "        -1.68374459e+00, -1.65366666e+00, -1.62358872e+00, -1.59351079e+00,\n",
       "        -1.56343286e+00, -1.53335492e+00, -1.50327699e+00, -1.47319905e+00,\n",
       "        -1.44312112e+00, -1.41304319e+00, -1.38296525e+00, -1.35288732e+00,\n",
       "        -1.32280939e+00, -1.29273145e+00, -1.26265352e+00, -1.23257558e+00,\n",
       "        -1.20249765e+00, -1.17241972e+00, -1.14234178e+00, -1.11226385e+00,\n",
       "        -1.08218592e+00, -1.05210798e+00, -1.02203005e+00, -9.91952116e-01,\n",
       "        -9.61874182e-01, -9.31796248e-01, -9.01718315e-01, -8.71640381e-01,\n",
       "        -8.41562448e-01, -8.11484514e-01, -7.81406580e-01, -7.51328647e-01,\n",
       "        -7.21250713e-01, -6.91172779e-01, -6.61094846e-01, -6.31016912e-01,\n",
       "        -6.00938978e-01, -5.70861045e-01, -5.40783111e-01, -5.10705177e-01,\n",
       "        -4.80627244e-01, -4.50549310e-01, -4.20471376e-01, -3.90393443e-01,\n",
       "        -3.60315509e-01, -3.30237576e-01, -3.00159642e-01, -2.70081708e-01,\n",
       "        -2.40003775e-01, -2.09925841e-01, -1.79847907e-01, -1.49769974e-01,\n",
       "        -1.19692040e-01, -8.96141063e-02, -5.95361727e-02, -2.94582390e-02,\n",
       "         6.19694640e-04,  3.06976283e-02,  6.07755619e-02,  9.08534956e-02,\n",
       "         1.20931429e-01,  1.51009363e-01,  1.81087297e-01,  2.11165230e-01,\n",
       "         2.41243164e-01,  2.71321097e-01,  3.01399031e-01,  3.31476965e-01,\n",
       "         3.61554898e-01,  3.91632832e-01,  4.21710766e-01,  4.51788699e-01,\n",
       "         4.81866633e-01,  5.11944567e-01,  5.42022500e-01,  5.72100434e-01,\n",
       "         6.02178368e-01,  6.32256301e-01,  6.62334235e-01,  6.92412169e-01,\n",
       "         7.22490102e-01,  7.52568036e-01,  7.82645970e-01,  8.12723903e-01,\n",
       "         8.42801837e-01,  8.72879770e-01,  9.02957704e-01,  9.33035638e-01,\n",
       "         9.63113571e-01,  9.93191505e-01,  1.02326944e+00,  1.05334737e+00,\n",
       "         1.08342531e+00,  1.11350324e+00,  1.14358117e+00,  1.17365911e+00,\n",
       "         1.20373704e+00,  1.23381497e+00,  1.26389291e+00,  1.29397084e+00,\n",
       "         1.32404878e+00,  1.35412671e+00,  1.38420464e+00,  1.41428258e+00,\n",
       "         1.44436051e+00,  1.47443844e+00,  1.50451638e+00,  1.53459431e+00,\n",
       "         1.56467224e+00,  1.59475018e+00,  1.62482811e+00,  1.65490605e+00,\n",
       "         1.68498398e+00,  1.71506191e+00,  1.74513985e+00,  1.77521778e+00,\n",
       "         1.80529571e+00,  1.83537365e+00,  1.86545158e+00,  1.89552951e+00,\n",
       "         1.92560745e+00,  1.95568538e+00,  1.98576332e+00,  2.01584125e+00,\n",
       "         2.04591918e+00,  2.07599712e+00,  2.10607505e+00,  2.13615298e+00,\n",
       "         2.16623092e+00,  2.19630885e+00,  2.22638678e+00,  2.25646472e+00,\n",
       "         2.28654265e+00,  2.31662059e+00,  2.34669852e+00,  2.37677645e+00,\n",
       "         2.40685439e+00,  2.43693232e+00,  2.46701025e+00,  2.49708819e+00,\n",
       "         2.52716612e+00,  2.55724405e+00,  2.58732199e+00,  2.61739992e+00,\n",
       "         2.64747786e+00,  2.67755579e+00,  2.70763372e+00,  2.73771166e+00,\n",
       "         2.76778959e+00,  2.79786752e+00,  2.82794546e+00,  2.85802339e+00,\n",
       "         2.88810132e+00]),\n",
       " <BarContainer object of 200 artists>)"
      ]
     },
     "execution_count": 30,
     "metadata": {},
     "output_type": "execute_result"
    },
    {
     "data": {
      "image/png": "[encoded data removed]",
      "text/plain": [
       "<Figure size 432x288 with 1 Axes>"
      ]
     },
     "metadata": {
      "needs_background": "light"
     },
     "output_type": "display_data"
    }
   ],
   "source": [
    "plt.hist(b,bins=200)"
   ]
  },
  {
   "cell_type": "code",
   "execution_count": 31,
   "metadata": {},
   "outputs": [
    {
     "name": "stdout",
     "output_type": "stream",
     "text": [
      "[[0.64204111 0.84152723 0.31516436]\n",
      " [0.34494223 0.59270461 0.96891782]]\n",
      "2\n"
     ]
    }
   ],
   "source": [
    "c = np.random.rand(2,3)\n",
    "print(c)\n",
    "print(c.ndim)"
   ]
  },
  {
   "cell_type": "code",
   "execution_count": 32,
   "metadata": {},
   "outputs": [
    {
     "name": "stdout",
     "output_type": "stream",
     "text": [
      "[ 0  1  2  3  4  5  6  7  8  9 10 11 12 13 14 15 16 17 18 19 20 21 22 23\n",
      " 24 25 26 27 28 29 30 31 32 33 34 35 36 37 38 39 40 41 42 43 44 45 46 47\n",
      " 48 49 50 51 52 53 54 55 56 57 58 59 60 61 62 63 64 65 66 67 68 69 70 71\n",
      " 72 73 74 75 76 77 78 79 80 81 82 83 84 85 86 87 88 89 90 91 92 93 94 95\n",
      " 96 97 98 99]\n",
      "[[ 0  1  2  3  4  5  6  7  8  9 10 11 12 13 14 15 16 17 18 19 20 21 22 23\n",
      "  24]\n",
      " [25 26 27 28 29 30 31 32 33 34 35 36 37 38 39 40 41 42 43 44 45 46 47 48\n",
      "  49]\n",
      " [50 51 52 53 54 55 56 57 58 59 60 61 62 63 64 65 66 67 68 69 70 71 72 73\n",
      "  74]\n",
      " [75 76 77 78 79 80 81 82 83 84 85 86 87 88 89 90 91 92 93 94 95 96 97 98\n",
      "  99]]\n"
     ]
    }
   ],
   "source": [
    "d = np.arange(100)\n",
    "print(d)\n",
    "d = d.reshape(4,25)\n",
    "print(d)"
   ]
  },
  {
   "cell_type": "code",
   "execution_count": 33,
   "metadata": {},
   "outputs": [
    {
     "name": "stdout",
     "output_type": "stream",
     "text": [
      "[3 4 5 6 7 8 9]\n"
     ]
    }
   ],
   "source": [
    "a = np.arange(100)\n",
    "b = a[3:10] # This is just referencing\n",
    "print(b)"
   ]
  },
  {
   "cell_type": "code",
   "execution_count": 34,
   "metadata": {},
   "outputs": [
    {
     "name": "stdout",
     "output_type": "stream",
     "text": [
      "[    0     1     2 -1200     4     5     6     7     8     9    10    11\n",
      "    12    13    14    15    16    17    18    19    20    21    22    23\n",
      "    24    25    26    27    28    29    30    31    32    33    34    35\n",
      "    36    37    38    39    40    41    42    43    44    45    46    47\n",
      "    48    49    50    51    52    53    54    55    56    57    58    59\n",
      "    60    61    62    63    64    65    66    67    68    69    70    71\n",
      "    72    73    74    75    76    77    78    79    80    81    82    83\n",
      "    84    85    86    87    88    89    90    91    92    93    94    95\n",
      "    96    97    98    99]\n"
     ]
    }
   ],
   "source": [
    "b[0] = -1200\n",
    "print(a)"
   ]
  },
  {
   "cell_type": "code",
   "execution_count": 35,
   "metadata": {},
   "outputs": [
    {
     "name": "stdout",
     "output_type": "stream",
     "text": [
      "[3 4 5 6 7 8 9]\n",
      "[    0     1     2 -1200     4     5     6     7     8     9    10    11\n",
      "    12    13    14    15    16    17    18    19    20    21    22    23\n",
      "    24    25    26    27    28    29    30    31    32    33    34    35\n",
      "    36    37    38    39    40    41    42    43    44    45    46    47\n",
      "    48    49    50    51    52    53    54    55    56    57    58    59\n",
      "    60    61    62    63    64    65    66    67    68    69    70    71\n",
      "    72    73    74    75    76    77    78    79    80    81    82    83\n",
      "    84    85    86    87    88    89    90    91    92    93    94    95\n",
      "    96    97    98    99]\n"
     ]
    }
   ],
   "source": [
    "b = a[3:10].copy()\n",
    "b[0] = 3\n",
    "print(b)\n",
    "print(a)"
   ]
  },
  {
   "cell_type": "code",
   "execution_count": 36,
   "metadata": {},
   "outputs": [
    {
     "name": "stdout",
     "output_type": "stream",
     "text": [
      "[ 0  5 10 15 20 25 30 35 40 45 50 55 60 65 70 75 80 85 90 95]\n"
     ]
    }
   ],
   "source": [
    "print(a[::5])"
   ]
  },
  {
   "cell_type": "code",
   "execution_count": 37,
   "metadata": {},
   "outputs": [
    {
     "name": "stdout",
     "output_type": "stream",
     "text": [
      "[99 94 89 84 79 74 69 64 59 54 49 44 39 34 29 24 19 14  9  4]\n"
     ]
    }
   ],
   "source": [
    "print(a[::-5])"
   ]
  },
  {
   "cell_type": "code",
   "execution_count": 38,
   "metadata": {},
   "outputs": [
    {
     "name": "stdout",
     "output_type": "stream",
     "text": [
      "[False False False  True False False False False False False False False\n",
      " False False False False False False False False False False False False\n",
      " False False False False False False False False False False False False\n",
      " False False False False False False False False False False False False\n",
      " False False False False False False False False False False False False\n",
      " False False False False False False False False False False False False\n",
      " False False False False False False False False False False False False\n",
      " False False False False False False False False False False False False\n",
      " False False False False]\n"
     ]
    }
   ],
   "source": [
    "print(a==-1200)"
   ]
  },
  {
   "cell_type": "code",
   "execution_count": 39,
   "metadata": {},
   "outputs": [
    {
     "name": "stdout",
     "output_type": "stream",
     "text": [
      "[0 0 0 3 0 0 0 0 0 0 0 0 0 0 0 0 0 0 0 0 0 0 0 0 0 0 0 0 0 0 0 0 0 0 0 0 0\n",
      " 0 0 0 0 0 0 0 0 0 0 0 0 0 0 0 0 0 0 0 0 0 0 0 0 0 0 0 0 0 0 0 0 0 0 0 0 0\n",
      " 0 0 0 0 0 0 0 0 0 0 0 0 0 0 0 0 0 0 0 0 0 0 0 0 0 0]\n"
     ]
    }
   ],
   "source": [
    "print((a==-1200)*np.arange(a.size))"
   ]
  },
  {
   "cell_type": "code",
   "execution_count": 40,
   "metadata": {},
   "outputs": [
    {
     "name": "stdout",
     "output_type": "stream",
     "text": [
      "[[3]]\n"
     ]
    }
   ],
   "source": [
    "print(np.argwhere(a==-1200)) # This will basically give an index where the value is -1200 in 2D array"
   ]
  },
  {
   "cell_type": "code",
   "execution_count": 41,
   "metadata": {},
   "outputs": [
    {
     "name": "stdout",
     "output_type": "stream",
     "text": [
      "3\n"
     ]
    }
   ],
   "source": [
    "b = np.argwhere(a==-1200)\n",
    "print(b[0][0])"
   ]
  },
  {
   "cell_type": "code",
   "execution_count": 42,
   "metadata": {},
   "outputs": [
    {
     "name": "stdout",
     "output_type": "stream",
     "text": [
      "[[ 5.  6.  0.  7.]\n",
      " [ 4.  7. 10.  1.]\n",
      " [ 7.  4.  4.  5.]\n",
      " [ 4.  4.  9.  4.]\n",
      " [ 3.  8.  8.  3.]]\n"
     ]
    }
   ],
   "source": [
    "a = np.round(10*np.random.rand(5,4))\n",
    "print(a)"
   ]
  },
  {
   "cell_type": "code",
   "execution_count": 43,
   "metadata": {},
   "outputs": [
    {
     "name": "stdout",
     "output_type": "stream",
     "text": [
      "10.0\n",
      "[6. 7. 4. 4. 8.]\n",
      "[[10.  1.]\n",
      " [ 4.  5.]]\n"
     ]
    }
   ],
   "source": [
    "print(a[1,2])\n",
    "print(a[:,1])\n",
    "print(a[1:3,2:4])"
   ]
  },
  {
   "cell_type": "code",
   "execution_count": 44,
   "metadata": {},
   "outputs": [
    {
     "name": "stdout",
     "output_type": "stream",
     "text": [
      "[[ 5.  6.  0.  7.]\n",
      " [ 4.  7. 10.  1.]\n",
      " [ 7.  4.  4.  5.]\n",
      " [ 4.  4.  9.  4.]\n",
      " [ 3.  8.  8.  3.]]\n",
      "[[ 5.  4.  7.  4.  3.]\n",
      " [ 6.  7.  4.  4.  8.]\n",
      " [ 0. 10.  4.  9.  8.]\n",
      " [ 7.  1.  5.  4.  3.]]\n"
     ]
    }
   ],
   "source": [
    "print(a)\n",
    "print(a.T)"
   ]
  },
  {
   "cell_type": "code",
   "execution_count": 45,
   "metadata": {},
   "outputs": [],
   "source": [
    "import numpy.linalg as la"
   ]
  },
  {
   "cell_type": "code",
   "execution_count": 46,
   "metadata": {},
   "outputs": [
    {
     "name": "stdout",
     "output_type": "stream",
     "text": [
      "[[ 12.53773921   3.09688933  -9.24208388]\n",
      " [  8.25435547   0.33670301  -4.76924405]\n",
      " [-17.62347679  -2.78528919  12.88275159]]\n"
     ]
    }
   ],
   "source": [
    "print(la.inv(np.random.rand(3,3)))"
   ]
  },
  {
   "cell_type": "code",
   "execution_count": 47,
   "metadata": {},
   "outputs": [
    {
     "name": "stdout",
     "output_type": "stream",
     "text": [
      "[[ 5.  6.  0.  7.]\n",
      " [ 4.  7. 10.  1.]\n",
      " [ 7.  4.  4.  5.]\n",
      " [ 4.  4.  9.  4.]\n",
      " [ 3.  8.  8.  3.]]\n",
      "[[ 3.  4.  0.  1.]\n",
      " [ 4.  4.  4.  3.]\n",
      " [ 4.  6.  8.  4.]\n",
      " [ 5.  7.  9.  5.]\n",
      " [ 7.  8. 10.  7.]]\n",
      "[[ 0.  1.  3.  4.]\n",
      " [ 3.  4.  4.  4.]\n",
      " [ 4.  4.  6.  8.]\n",
      " [ 5.  5.  7.  9.]\n",
      " [ 7.  7.  8. 10.]]\n"
     ]
    }
   ],
   "source": [
    "print(a)\n",
    "a.sort(axis=0) # Column sort\n",
    "print(a)\n",
    "a.sort(axis=1) # row sort\n",
    "print(a)"
   ]
  },
  {
   "cell_type": "code",
   "execution_count": 48,
   "metadata": {},
   "outputs": [
    {
     "name": "stdout",
     "output_type": "stream",
     "text": [
      "[3 5 6]\n"
     ]
    }
   ],
   "source": [
    "a = np.arange(100)\n",
    "print(a[[3,5,6]]) # This will give me copy not view"
   ]
  },
  {
   "cell_type": "code",
   "execution_count": 49,
   "metadata": {},
   "outputs": [
    {
     "name": "stdout",
     "output_type": "stream",
     "text": [
      "[0 1 2 3 4 5]\n"
     ]
    }
   ],
   "source": [
    "print(a[a<=5])"
   ]
  },
  {
   "cell_type": "code",
   "execution_count": 50,
   "metadata": {},
   "outputs": [
    {
     "name": "stdout",
     "output_type": "stream",
     "text": [
      "[ 0  1  2  3  4  5  7  8  9 10 11 12 13 14 15 16 17 18 19 20 21 22 23 24\n",
      " 25 26 27 28 29 30 31 32 33 34 35 36 37 38 39 40 41 42 43 44 45 46 47 48\n",
      " 49 50 51 52 53 54 55 56 57 58 59 60 61 62 63 64 65 66 67 68 69 70 71 72\n",
      " 73 74 75 76 77 78 79 80 81 82 83 84 85 86 87 88 89 90 91 92 93 94 95 96\n",
      " 97 98 99]\n"
     ]
    }
   ],
   "source": [
    "print(a[(a<=5) | (a>=7)])"
   ]
  },
  {
   "cell_type": "code",
   "execution_count": 51,
   "metadata": {},
   "outputs": [
    {
     "name": "stdout",
     "output_type": "stream",
     "text": [
      "[[6 7]\n",
      " [8 9]]\n"
     ]
    }
   ],
   "source": [
    "a = np.array([[1,2],[3,4]])\n",
    "a = a+5\n",
    "print(a)"
   ]
  },
  {
   "cell_type": "code",
   "execution_count": 52,
   "metadata": {},
   "outputs": [
    {
     "name": "stdout",
     "output_type": "stream",
     "text": [
      "[[ 7  8]\n",
      " [10 11]]\n"
     ]
    }
   ],
   "source": [
    "a = a+np.array([[1],[2]])\n",
    "print(a)"
   ]
  },
  {
   "cell_type": "code",
   "execution_count": 53,
   "metadata": {},
   "outputs": [
    {
     "name": "stdout",
     "output_type": "stream",
     "text": [
      "[[3. 5. 1.]\n",
      " [4. 6. 0.]]\n",
      "[[2. 9. 6.]\n",
      " [8. 1. 7.]]\n",
      "[[3. 5. 1. 2. 9. 6.]\n",
      " [4. 6. 0. 8. 1. 7.]]\n",
      "[[3. 5. 1.]\n",
      " [4. 6. 0.]\n",
      " [2. 9. 6.]\n",
      " [8. 1. 7.]]\n"
     ]
    }
   ],
   "source": [
    "a = np.round(10*np.random.rand(2,3))\n",
    "b = np.round(10*np.random.rand(2,3))\n",
    "print(a)\n",
    "print(b)\n",
    "print(np.hstack((a,b)))\n",
    "print(np.vstack((a,b)))"
   ]
  },
  {
   "cell_type": "code",
   "execution_count": 54,
   "metadata": {},
   "outputs": [
    {
     "name": "stdout",
     "output_type": "stream",
     "text": [
      "[3 7 8 1 4 2 6 0 9 5]\n",
      "[0 1 2 3 4 5 6 7 8 9]\n",
      "[9 8 7 6 5 4 3 2 1 0]\n"
     ]
    }
   ],
   "source": [
    "a = np.random.permutation(np.arange(10))\n",
    "print(a)\n",
    "a.sort()\n",
    "print(a)\n",
    "# np.sort(a) --> This will also work, This is universal function of Numpy Library\n",
    "a = a[::-1]\n",
    "print(a)"
   ]
  },
  {
   "cell_type": "code",
   "execution_count": 55,
   "metadata": {},
   "outputs": [
    {
     "name": "stdout",
     "output_type": "stream",
     "text": [
      "['13er' 'abc' 'how are you?' 'u765']\n"
     ]
    }
   ],
   "source": [
    "a = np.array([\"abc\",\"how are you?\", \"u765\", \"13er\"])\n",
    "a.sort()\n",
    "print(a)"
   ]
  },
  {
   "cell_type": "code",
   "execution_count": 56,
   "metadata": {},
   "outputs": [
    {
     "name": "stdout",
     "output_type": "stream",
     "text": [
      "69 ms ± 3.69 ms per loop (mean ± std. dev. of 7 runs, 10 loops each)\n",
      "971 µs ± 30.5 µs per loop (mean ± std. dev. of 7 runs, 1,000 loops each)\n"
     ]
    }
   ],
   "source": [
    "b = np.random.rand(1000000)\n",
    "%timeit sum(b)\n",
    "%timeit np.sum(b) # This is showing that universal function are very fast as compared to previous one"
   ]
  },
  {
   "cell_type": "code",
   "execution_count": 57,
   "metadata": {},
   "outputs": [],
   "source": [
    "def mysum(g):\n",
    "    s = 0\n",
    "    for x in g:\n",
    "        s += x\n",
    "    return s"
   ]
  },
  {
   "cell_type": "code",
   "execution_count": 58,
   "metadata": {},
   "outputs": [
    {
     "name": "stdout",
     "output_type": "stream",
     "text": [
      "82.8 ms ± 683 µs per loop (mean ± std. dev. of 7 runs, 10 loops each)\n"
     ]
    }
   ],
   "source": [
    "%timeit mysum(b)"
   ]
  }
 ],
 "metadata": {
  "kernelspec": {
   "display_name": "Python 3.9.12 ('base')",
   "language": "python",
   "name": "python3"
  },
  "language_info": {
   "codemirror_mode": {
    "name": "ipython",
    "version": 3
   },
   "file_extension": ".py",
   "mimetype": "text/x-python",
   "name": "python",
   "nbconvert_exporter": "python",
   "pygments_lexer": "ipython3",
   "version": "3.9.12"
  },
  "orig_nbformat": 4,
  "vscode": {
   "interpreter": {
    "hash": "5ae58900cfbb8c43ab3495913814b7cf26024f51651a94ce8bf64d6111688e8d"
   }
  }
 },
 "nbformat": 4,
 "nbformat_minor": 2
}
